{
 "cells": [
  {
   "cell_type": "code",
   "execution_count": 1,
   "source": [
    "import os\n",
    "os.chdir('..')\n",
    "import glob\n",
    "from utils.geotif_io import readTiff, writeTiff\n",
    "from utils.raster_vec import raster2vec\n"
   ],
   "outputs": [],
   "metadata": {}
  },
  {
   "cell_type": "code",
   "execution_count": 11,
   "source": [
    "paths_pred = sorted(glob.glob('data/dset-l578/scene/*_pred.tif'))\n",
    "len(paths_pred)\n",
    "paths_pred[0]\n",
    "\n"
   ],
   "outputs": [
    {
     "output_type": "execute_result",
     "data": {
      "text/plain": [
       "'data/dset-l578/scene/l5_scene_12_pred.tif'"
      ]
     },
     "metadata": {},
     "execution_count": 11
    }
   ],
   "metadata": {}
  },
  {
   "cell_type": "code",
   "execution_count": 13,
   "source": [
    "for i in range(len(paths_pred)):\n",
    "    print('pred_map:', paths_pred[i])\n",
    "    path_save = paths_pred[i].split('.')[0]+'.gpkg'\n",
    "    if os.path.exists(path_save):        \n",
    "        continue\n",
    "    raster2vec(raster_path=paths_pred[i], \\\n",
    "               output_path=path_save, \\\n",
    "               dn_values=[1])\n",
    "    print('saved gpkg-->:', path_save)\n",
    "\n"
   ],
   "outputs": [
    {
     "output_type": "stream",
     "name": "stdout",
     "text": [
      "pred_map: data/dset-l578/scene/l5_scene_12_pred.tif\n",
      "pred_map: data/dset-l578/scene/l5_scene_14_pred.tif\n",
      "pred_map: data/dset-l578/scene/l5_scene_18_pred.tif\n",
      "pred_map: data/dset-l578/scene/l5_scene_21_pred.tif\n",
      "pred_map: data/dset-l578/scene/l5_scene_22_pred.tif\n",
      "pred_map: data/dset-l578/scene/l5_scene_23_pred.tif\n",
      "pred_map: data/dset-l578/scene/l5_scene_24_pred.tif\n",
      "pred_map: data/dset-l578/scene/l5_scene_25_pred.tif\n",
      "pred_map: data/dset-l578/scene/l5_scene_26_pred.tif\n",
      "pred_map: data/dset-l578/scene/l5_scene_27_pred.tif\n",
      "pred_map: data/dset-l578/scene/l5_scene_28_pred.tif\n",
      "pred_map: data/dset-l578/scene/l5_scene_29_pred.tif\n",
      "pred_map: data/dset-l578/scene/l5_scene_30_pred.tif\n",
      "pred_map: data/dset-l578/scene/l7_scene_05_pred.tif\n",
      "pred_map: data/dset-l578/scene/l7_scene_08_pred.tif\n",
      "pred_map: data/dset-l578/scene/l7_scene_14_pred.tif\n",
      "pred_map: data/dset-l578/scene/l7_scene_18_pred.tif\n",
      "pred_map: data/dset-l578/scene/l7_scene_20_pred.tif\n",
      "pred_map: data/dset-l578/scene/l7_scene_21_pred.tif\n",
      "pred_map: data/dset-l578/scene/l7_scene_22_pred.tif\n",
      "pred_map: data/dset-l578/scene/l7_scene_23_pred.tif\n",
      "pred_map: data/dset-l578/scene/l7_scene_24_pred.tif\n",
      "pred_map: data/dset-l578/scene/l7_scene_25_pred.tif\n",
      "pred_map: data/dset-l578/scene/l7_scene_26_pred.tif\n",
      "pred_map: data/dset-l578/scene/l7_scene_27_pred.tif\n",
      "pred_map: data/dset-l578/scene/l7_scene_28_pred.tif\n",
      "pred_map: data/dset-l578/scene/l7_scene_29_pred.tif\n",
      "pred_map: data/dset-l578/scene/l7_scene_30_pred.tif\n",
      "pred_map: data/dset-l578/scene/l8_scene_04_pred.tif\n",
      "pred_map: data/dset-l578/scene/l8_scene_06_pred.tif\n",
      "pred_map: data/dset-l578/scene/l8_scene_10_pred.tif\n",
      "pred_map: data/dset-l578/scene/l8_scene_14_pred.tif\n",
      "pred_map: data/dset-l578/scene/l8_scene_15_pred.tif\n",
      "pred_map: data/dset-l578/scene/l8_scene_18_pred.tif\n",
      "pred_map: data/dset-l578/scene/l8_scene_20_pred.tif\n",
      "pred_map: data/dset-l578/scene/l8_scene_21_pred.tif\n",
      "pred_map: data/dset-l578/scene/l8_scene_22_pred.tif\n",
      "pred_map: data/dset-l578/scene/l8_scene_23_pred.tif\n",
      "pred_map: data/dset-l578/scene/l8_scene_24_pred.tif\n",
      "pred_map: data/dset-l578/scene/l8_scene_25_pred.tif\n",
      "pred_map: data/dset-l578/scene/l8_scene_26_pred.tif\n",
      "pred_map: data/dset-l578/scene/l8_scene_27_pred.tif\n",
      "pred_map: data/dset-l578/scene/l8_scene_28_pred.tif\n",
      "pred_map: data/dset-l578/scene/l8_scene_29_pred.tif\n",
      "pred_map: data/dset-l578/scene/l8_scene_30_pred.tif\n"
     ]
    }
   ],
   "metadata": {}
  }
 ],
 "metadata": {
  "orig_nbformat": 4,
  "language_info": {
   "name": "python",
   "version": "3.6.13",
   "mimetype": "text/x-python",
   "codemirror_mode": {
    "name": "ipython",
    "version": 3
   },
   "pygments_lexer": "ipython3",
   "nbconvert_exporter": "python",
   "file_extension": ".py"
  },
  "kernelspec": {
   "name": "python3",
   "display_name": "Python 3.6.13 64-bit ('venv': conda)"
  },
  "interpreter": {
   "hash": "9fcd11040269ff8a468a26bab548888089e1e15f5655977e7680097ba56865af"
  }
 },
 "nbformat": 4,
 "nbformat_minor": 2
}