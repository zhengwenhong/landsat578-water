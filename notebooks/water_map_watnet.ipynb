{
 "cells": [
  {
   "cell_type": "code",
   "execution_count": null,
   "source": [
    "# ## Mount on google drive\n",
    "# from google.colab import drive\n",
    "# drive.mount('/content/drive/')"
   ],
   "outputs": [],
   "metadata": {}
  },
  {
   "cell_type": "code",
   "execution_count": null,
   "source": [
    "import config\n",
    "import os\n",
    "os.chdir(config.root)\n",
    "import tensorflow as tf\n",
    "import matplotlib.pyplot as plt\n",
    "import numpy as np\n",
    "from utils.geotif_io import readTiff,writeTiff\n",
    "from utils.imgShow import imgShow\n",
    "from utils.imgPatch import imgPatch\n"
   ],
   "outputs": [],
   "metadata": {}
  },
  {
   "cell_type": "code",
   "execution_count": null,
   "source": [
    "# satellite images and save path\n",
    "names_scene = ['l5_scene_12','l5_scene_14','l5_scene_18','l7_scene_05','l7_scene_08','l7_scene_14','l7_scene_18',\n",
    "                'l7_scene_20', 'l8_scene_04','l8_scene_06','l8_scene_10','l8_scene_14','l8_scene_15','l8_scene_18',\n",
    "                'l8_scene_20',\n",
    "                'l5_scene_21','l5_scene_22','l5_scene_23','l5_scene_24','l5_scene_25','l5_scene_26','l5_scene_27',\n",
    "                'l5_scene_28','l5_scene_29','l5_scene_30','l7_scene_21','l7_scene_22','l7_scene_23','l7_scene_24',\n",
    "                'l7_scene_25','l7_scene_26','l7_scene_27', 'l7_scene_28','l7_scene_29','l7_scene_30','l8_scene_21',\n",
    "                'l8_scene_22','l8_scene_23','l8_scene_24','l8_scene_25','l8_scene_26','l8_scene_27',\n",
    "                'l8_scene_28','l8_scene_29','l8_scene_30']\n",
    "paths_img = [config.root + '/data/dset-l578/scene/' + name + '.tif' for name in names_scene]\n",
    "paths_wat_map = [config.root + '/data/dset-l578/scene/'+ name + '_pred.tif' for name in names_scene]\n",
    "len(paths_wat_map)\n",
    "\n"
   ],
   "outputs": [],
   "metadata": {}
  },
  {
   "cell_type": "code",
   "execution_count": null,
   "source": [
    "## ----- model ------\n",
    "# pre-trained model\n",
    "path_model =  config.root + '/model/pretrained/watnetv2.h5'\n",
    "# super parameters\n",
    "model = tf.keras.models.load_model(path_model, compile=False)  # load model\n"
   ],
   "outputs": [],
   "metadata": {}
  },
  {
   "cell_type": "code",
   "execution_count": null,
   "source": [
    "for i in range(len(names_scene)):\n",
    "# for i in range(1):\n",
    "    print('image:', paths_img[i])\n",
    "    ### --- read tif\n",
    "    # satellite images \n",
    "    img, img_info = readTiff(path_in=paths_img[i])\n",
    "    img = np.float32(np.clip(img/10000, a_min=0, a_max=1))     ### normalization\n",
    "\n",
    "    ### ---- surface water mapping from sentinel-2 image\n",
    "    imgPat_ins = imgPatch(img=img, patch_size=512, edge_overlay = 160)\n",
    "    patch_list, start_list, img_patch_row, img_patch_col = imgPat_ins.toPatch()\n",
    "    result_patch_list = [model(patch[np.newaxis, :]) for patch in patch_list]\n",
    "    result_patch_list = [np.squeeze(patch, axis = 0) for patch in result_patch_list]\n",
    "    pro_map = imgPat_ins.toImage(result_patch_list, img_patch_row, img_patch_col)\n",
    "    cla_map = np.where(pro_map>0.5, 1, 0)\n",
    "    cla_map = np.int8(cla_map)\n",
    "\n",
    "    ### --- save the result\n",
    "    writeTiff(im_data=cla_map,  \n",
    "              im_geotrans=img_info['geotrans'], \n",
    "              im_geosrs=img_info['geosrs'], \n",
    "              path_out=paths_wat_map[i])\n",
    "    print('saved image -->:', paths_wat_map[i])\n",
    "    "
   ],
   "outputs": [],
   "metadata": {}
  },
  {
   "cell_type": "code",
   "execution_count": null,
   "source": [
    "## show the image and the prediction map\n",
    "scene_name = 'l5_scene_12'\n",
    "path_img = 'data/dset-l578/scene/'+ scene_name+'.tif'\n",
    "path_pred = 'data/dset-l578/scene/'+ scene_name + '_pred.tif'\n",
    "img, _ = readTiff(path_in=path_img)\n",
    "pred, _ = readTiff(path_in=path_pred)\n",
    "plt.figure(figsize=(10,5))\n",
    "plt.subplot(1,2,1)\n",
    "imgShow(img, color_bands=(3,2,1), clip_percent=2)\n",
    "plt.subplot(1,2,2)\n",
    "imgShow(pred, color_bands=(0,0,0), clip_percent=1)"
   ],
   "outputs": [],
   "metadata": {}
  },
  {
   "cell_type": "code",
   "execution_count": null,
   "source": [],
   "outputs": [],
   "metadata": {}
  }
 ],
 "metadata": {
  "kernelspec": {
   "name": "python3",
   "display_name": "Python 3.6.13 64-bit ('venv': conda)"
  },
  "language_info": {
   "codemirror_mode": {
    "name": "ipython",
    "version": 3
   },
   "file_extension": ".py",
   "mimetype": "text/x-python",
   "name": "python",
   "nbconvert_exporter": "python",
   "pygments_lexer": "ipython3",
   "version": "3.6.13"
  },
  "interpreter": {
   "hash": "9fcd11040269ff8a468a26bab548888089e1e15f5655977e7680097ba56865af"
  }
 },
 "nbformat": 4,
 "nbformat_minor": 2
}